{
  "nbformat": 4,
  "nbformat_minor": 0,
  "metadata": {
    "colab": {
      "provenance": [],
      "include_colab_link": true
    },
    "kernelspec": {
      "name": "python3",
      "display_name": "Python 3"
    },
    "accelerator": "GPU"
  },
  "cells": [
    {
      "cell_type": "markdown",
      "metadata": {
        "id": "view-in-github",
        "colab_type": "text"
      },
      "source": [
        "<a href=\"https://colab.research.google.com/github/DrPasidth/Thailand-IOT-4.0/blob/master/CNNcifarByKai.ipynb\" target=\"_parent\"><img src=\"https://colab.research.google.com/assets/colab-badge.svg\" alt=\"Open In Colab\"/></a>"
      ]
    },
    {
      "cell_type": "code",
      "metadata": {
        "id": "6BtUCGniulfj"
      },
      "source": [
        "import numpy as np\n",
        "import tensorflow as tf\n",
        "import cv2"
      ],
      "execution_count": 1,
      "outputs": []
    },
    {
      "cell_type": "code",
      "metadata": {
        "id": "xeWSaJaY_AsJ"
      },
      "source": [
        "from tensorflow.keras.models import Sequential\n",
        "from tensorflow.keras.layers import Flatten,Dense\n",
        "from tensorflow.keras.layers import Conv2D, MaxPooling2D"
      ],
      "execution_count": 2,
      "outputs": []
    },
    {
      "cell_type": "code",
      "metadata": {
        "id": "O2_wWFvE_ivC"
      },
      "source": [
        "cifar10 = tf.keras.datasets.cifar10"
      ],
      "execution_count": 3,
      "outputs": []
    },
    {
      "cell_type": "code",
      "metadata": {
        "id": "JK6CKbk4Ddu6",
        "colab": {
          "base_uri": "https://localhost:8080/"
        },
        "outputId": "29b5e791-f67a-4a7c-f97d-eac91ad4c950"
      },
      "source": [
        "(x_train,y_train),(x_test,y_test) = cifar10.load_data()"
      ],
      "execution_count": 4,
      "outputs": [
        {
          "output_type": "stream",
          "name": "stdout",
          "text": [
            "Downloading data from https://www.cs.toronto.edu/~kriz/cifar-10-python.tar.gz\n",
            "170498071/170498071 [==============================] - 13s 0us/step\n"
          ]
        }
      ]
    },
    {
      "cell_type": "code",
      "metadata": {
        "id": "KYi0VS6gjPzR"
      },
      "source": [
        "from google.colab.patches import cv2_imshow"
      ],
      "execution_count": 5,
      "outputs": []
    },
    {
      "cell_type": "code",
      "metadata": {
        "id": "Rcque0xWjTPZ",
        "colab": {
          "base_uri": "https://localhost:8080/",
          "height": 49
        },
        "outputId": "3cfb162b-4109-4f74-c970-40de442219e5"
      },
      "source": [
        "cv2_imshow(x_train[0])"
      ],
      "execution_count": 6,
      "outputs": [
        {
          "output_type": "display_data",
          "data": {
            "text/plain": [
              "<PIL.Image.Image image mode=RGB size=32x32>"
            ],
            "image/png": "[encoded data removed]"
          },
          "metadata": {}
        }
      ]
    },
    {
      "cell_type": "code",
      "metadata": {
        "id": "Gxy-cpwo65CD",
        "colab": {
          "base_uri": "https://localhost:8080/"
        },
        "outputId": "cbd71b29-270b-4ce3-ee42-2778c8a70e6d"
      },
      "source": [
        "print(x_train[0])"
      ],
      "execution_count": 7,
      "outputs": [
        {
          "output_type": "stream",
          "name": "stdout",
          "text": [
            "[[[ 59  62  63]\n",
            "  [ 43  46  45]\n",
            "  [ 50  48  43]\n",
            "  ...\n",
            "  [158 132 108]\n",
            "  [152 125 102]\n",
            "  [148 124 103]]\n",
            "\n",
            " [[ 16  20  20]\n",
            "  [  0   0   0]\n",
            "  [ 18   8   0]\n",
            "  ...\n",
            "  [123  88  55]\n",
            "  [119  83  50]\n",
            "  [122  87  57]]\n",
            "\n",
            " [[ 25  24  21]\n",
            "  [ 16   7   0]\n",
            "  [ 49  27   8]\n",
            "  ...\n",
            "  [118  84  50]\n",
            "  [120  84  50]\n",
            "  [109  73  42]]\n",
            "\n",
            " ...\n",
            "\n",
            " [[208 170  96]\n",
            "  [201 153  34]\n",
            "  [198 161  26]\n",
            "  ...\n",
            "  [160 133  70]\n",
            "  [ 56  31   7]\n",
            "  [ 53  34  20]]\n",
            "\n",
            " [[180 139  96]\n",
            "  [173 123  42]\n",
            "  [186 144  30]\n",
            "  ...\n",
            "  [184 148  94]\n",
            "  [ 97  62  34]\n",
            "  [ 83  53  34]]\n",
            "\n",
            " [[177 144 116]\n",
            "  [168 129  94]\n",
            "  [179 142  87]\n",
            "  ...\n",
            "  [216 184 140]\n",
            "  [151 118  84]\n",
            "  [123  92  72]]]\n"
          ]
        }
      ]
    },
    {
      "cell_type": "code",
      "metadata": {
        "id": "VTYyrftb7Mbx",
        "colab": {
          "base_uri": "https://localhost:8080/"
        },
        "outputId": "43e6d61c-bee1-4988-b8df-fd7ba67c1edc"
      },
      "source": [
        "print(y_train[0])"
      ],
      "execution_count": 8,
      "outputs": [
        {
          "output_type": "stream",
          "name": "stdout",
          "text": [
            "[6]\n"
          ]
        }
      ]
    },
    {
      "cell_type": "code",
      "metadata": {
        "id": "bZeQlUU9Fhaj"
      },
      "source": [
        "x_train = x_train / 255\n",
        "x_test = x_test / 255"
      ],
      "execution_count": 9,
      "outputs": []
    },
    {
      "cell_type": "code",
      "metadata": {
        "id": "iAJkFO0SZScd",
        "colab": {
          "base_uri": "https://localhost:8080/"
        },
        "outputId": "9f2f3808-7b74-47b3-ef53-0d08d1d1a049"
      },
      "source": [
        "print(x_train.shape)\n",
        "print(y_train.shape)\n",
        "print(x_test.shape)\n",
        "print(y_test.shape)"
      ],
      "execution_count": 10,
      "outputs": [
        {
          "output_type": "stream",
          "name": "stdout",
          "text": [
            "(50000, 32, 32, 3)\n",
            "(50000, 1)\n",
            "(10000, 32, 32, 3)\n",
            "(10000, 1)\n"
          ]
        }
      ]
    },
    {
      "cell_type": "code",
      "metadata": {
        "id": "seKh_5o_GAJc"
      },
      "source": [
        "model = Sequential()"
      ],
      "execution_count": 11,
      "outputs": []
    },
    {
      "cell_type": "code",
      "metadata": {
        "id": "U3MRCADejJLU"
      },
      "source": [
        "model.add(Conv2D(128,(3,3), input_shape=(32,32,3), activation='relu', padding='same'))"
      ],
      "execution_count": 12,
      "outputs": []
    },
    {
      "cell_type": "code",
      "metadata": {
        "id": "9Bt46C8ojJPq"
      },
      "source": [
        "model.add(MaxPooling2D())"
      ],
      "execution_count": 13,
      "outputs": []
    },
    {
      "cell_type": "code",
      "metadata": {
        "id": "A2-6qPMcjJTe"
      },
      "source": [
        "model.add(Conv2D(64,(3,3), activation='relu', padding='same'))"
      ],
      "execution_count": 14,
      "outputs": []
    },
    {
      "cell_type": "code",
      "metadata": {
        "id": "qmPACElDjN5o"
      },
      "source": [
        "model.add(MaxPooling2D())"
      ],
      "execution_count": 15,
      "outputs": []
    },
    {
      "cell_type": "code",
      "metadata": {
        "id": "ADTYDNyhjN_4"
      },
      "source": [
        "model.add(Conv2D(32,(3,3), activation='relu', padding='same'))"
      ],
      "execution_count": 16,
      "outputs": []
    },
    {
      "cell_type": "code",
      "metadata": {
        "id": "7nCdOn2hjJXB"
      },
      "source": [
        "model.add(MaxPooling2D())"
      ],
      "execution_count": 17,
      "outputs": []
    },
    {
      "cell_type": "code",
      "metadata": {
        "id": "nldpP8vuiRih"
      },
      "source": [
        "model.add(Flatten())"
      ],
      "execution_count": 18,
      "outputs": []
    },
    {
      "cell_type": "code",
      "metadata": {
        "id": "3T4yZ1nniRq3"
      },
      "source": [
        "model.add(Dense(512, activation='relu'))"
      ],
      "execution_count": 19,
      "outputs": []
    },
    {
      "cell_type": "code",
      "metadata": {
        "id": "TDJ3DeAB_VMd"
      },
      "source": [
        "model.add(Dense(256, activation='relu'))"
      ],
      "execution_count": 20,
      "outputs": []
    },
    {
      "cell_type": "code",
      "metadata": {
        "id": "83ksK0nhiRy5"
      },
      "source": [
        "model.add(Dense(10, activation='softmax'))"
      ],
      "execution_count": 21,
      "outputs": []
    },
    {
      "cell_type": "code",
      "metadata": {
        "id": "TQ57-tsZ4KL2",
        "colab": {
          "base_uri": "https://localhost:8080/"
        },
        "outputId": "1a37285e-ba6f-4cdb-f406-9c75700a6c80"
      },
      "source": [
        "model.summary()"
      ],
      "execution_count": 22,
      "outputs": [
        {
          "output_type": "stream",
          "name": "stdout",
          "text": [
            "Model: \"sequential\"\n",
            "_________________________________________________________________\n",
            " Layer (type)                Output Shape              Param #   \n",
            "=================================================================\n",
            " conv2d (Conv2D)             (None, 32, 32, 128)       3584      \n",
            "                                                                 \n",
            " max_pooling2d (MaxPooling2  (None, 16, 16, 128)       0         \n",
            " D)                                                              \n",
            "                                                                 \n",
            " conv2d_1 (Conv2D)           (None, 16, 16, 64)        73792     \n",
            "                                                                 \n",
            " max_pooling2d_1 (MaxPoolin  (None, 8, 8, 64)          0         \n",
            " g2D)                                                            \n",
            "                                                                 \n",
            " conv2d_2 (Conv2D)           (None, 8, 8, 32)          18464     \n",
            "                                                                 \n",
            " max_pooling2d_2 (MaxPoolin  (None, 4, 4, 32)          0         \n",
            " g2D)                                                            \n",
            "                                                                 \n",
            " flatten (Flatten)           (None, 512)               0         \n",
            "                                                                 \n",
            " dense (Dense)               (None, 512)               262656    \n",
            "                                                                 \n",
            " dense_1 (Dense)             (None, 256)               131328    \n",
            "                                                                 \n",
            " dense_2 (Dense)             (None, 10)                2570      \n",
            "                                                                 \n",
            "=================================================================\n",
            "Total params: 492394 (1.88 MB)\n",
            "Trainable params: 492394 (1.88 MB)\n",
            "Non-trainable params: 0 (0.00 Byte)\n",
            "_________________________________________________________________\n"
          ]
        }
      ]
    },
    {
      "cell_type": "code",
      "metadata": {
        "id": "ZqjPuXZpG1TO"
      },
      "source": [
        "model.compile(optimizer=\"adam\",loss=\"sparse_categorical_crossentropy\",metrics=[\"accuracy\"])"
      ],
      "execution_count": 23,
      "outputs": []
    },
    {
      "cell_type": "code",
      "metadata": {
        "id": "dDNsAq5jIr6A",
        "colab": {
          "base_uri": "https://localhost:8080/"
        },
        "outputId": "3eda4a19-f799-4e20-d087-744ec6710649"
      },
      "source": [
        "model.fit(x_train,y_train,batch_size=128,epochs=20)"
      ],
      "execution_count": 24,
      "outputs": [
        {
          "output_type": "stream",
          "name": "stdout",
          "text": [
            "Epoch 1/20\n",
            "391/391 [==============================] - 10s 12ms/step - loss: 1.5503 - accuracy: 0.4323\n",
            "Epoch 2/20\n",
            "391/391 [==============================] - 4s 10ms/step - loss: 1.1138 - accuracy: 0.6029\n",
            "Epoch 3/20\n",
            "391/391 [==============================] - 4s 10ms/step - loss: 0.9354 - accuracy: 0.6691\n",
            "Epoch 4/20\n",
            "391/391 [==============================] - 4s 10ms/step - loss: 0.8106 - accuracy: 0.7178\n",
            "Epoch 5/20\n",
            "391/391 [==============================] - 4s 10ms/step - loss: 0.7227 - accuracy: 0.7454\n",
            "Epoch 6/20\n",
            "391/391 [==============================] - 4s 10ms/step - loss: 0.6517 - accuracy: 0.7697\n",
            "Epoch 7/20\n",
            "391/391 [==============================] - 4s 10ms/step - loss: 0.5779 - accuracy: 0.7948\n",
            "Epoch 8/20\n",
            "391/391 [==============================] - 4s 11ms/step - loss: 0.5093 - accuracy: 0.8205\n",
            "Epoch 9/20\n",
            "391/391 [==============================] - 4s 10ms/step - loss: 0.4592 - accuracy: 0.8366\n",
            "Epoch 10/20\n",
            "391/391 [==============================] - 4s 10ms/step - loss: 0.3958 - accuracy: 0.8618\n",
            "Epoch 11/20\n",
            "391/391 [==============================] - 4s 11ms/step - loss: 0.3432 - accuracy: 0.8765\n",
            "Epoch 12/20\n",
            "391/391 [==============================] - 4s 10ms/step - loss: 0.3010 - accuracy: 0.8947\n",
            "Epoch 13/20\n",
            "391/391 [==============================] - 4s 10ms/step - loss: 0.2589 - accuracy: 0.9080\n",
            "Epoch 14/20\n",
            "391/391 [==============================] - 4s 10ms/step - loss: 0.2092 - accuracy: 0.9256\n",
            "Epoch 15/20\n",
            "391/391 [==============================] - 4s 10ms/step - loss: 0.1785 - accuracy: 0.9367\n",
            "Epoch 16/20\n",
            "391/391 [==============================] - 4s 10ms/step - loss: 0.1633 - accuracy: 0.9417\n",
            "Epoch 17/20\n",
            "391/391 [==============================] - 4s 10ms/step - loss: 0.1407 - accuracy: 0.9493\n",
            "Epoch 18/20\n",
            "391/391 [==============================] - 4s 11ms/step - loss: 0.1410 - accuracy: 0.9488\n",
            "Epoch 19/20\n",
            "391/391 [==============================] - 4s 10ms/step - loss: 0.1174 - accuracy: 0.9578\n",
            "Epoch 20/20\n",
            "391/391 [==============================] - 4s 10ms/step - loss: 0.1060 - accuracy: 0.9624\n"
          ]
        },
        {
          "output_type": "execute_result",
          "data": {
            "text/plain": [
              "<keras.src.callbacks.History at 0x7d1000fb4f10>"
            ]
          },
          "metadata": {},
          "execution_count": 24
        }
      ]
    },
    {
      "cell_type": "code",
      "metadata": {
        "id": "s_ecH2ggKqxB",
        "colab": {
          "base_uri": "https://localhost:8080/"
        },
        "outputId": "f702d919-f762-44a4-cf62-b98009adade1"
      },
      "source": [
        "model.evaluate(x=x_test, y=y_test,batch_size=128)"
      ],
      "execution_count": 25,
      "outputs": [
        {
          "output_type": "stream",
          "name": "stdout",
          "text": [
            "79/79 [==============================] - 1s 7ms/step - loss: 1.4438 - accuracy: 0.7407\n"
          ]
        },
        {
          "output_type": "execute_result",
          "data": {
            "text/plain": [
              "[1.4437586069107056, 0.7407000064849854]"
            ]
          },
          "metadata": {},
          "execution_count": 25
        }
      ]
    },
    {
      "cell_type": "code",
      "metadata": {
        "id": "I-l0VDIsMVJE"
      },
      "source": [
        "labels = ['Airplane','Car', 'Bird', 'Cat', 'Deer', 'Dog', 'Frog', 'Horse', 'Boat', 'Truck']"
      ],
      "execution_count": 26,
      "outputs": []
    },
    {
      "cell_type": "code",
      "metadata": {
        "id": "d65xHWn9gjB-"
      },
      "source": [
        "width = 32\n",
        "height = 32\n",
        "channel = 3"
      ],
      "execution_count": 29,
      "outputs": []
    },
    {
      "cell_type": "code",
      "metadata": {
        "id": "FcY7noEVBxYZ"
      },
      "source": [
        "predict_image = \"/content/truck.jpg\""
      ],
      "execution_count": 27,
      "outputs": []
    },
    {
      "cell_type": "code",
      "source": [
        "predict_image = \"/content/airplane.jpg\""
      ],
      "metadata": {
        "id": "MzA5H5gOs0Vp"
      },
      "execution_count": 31,
      "outputs": []
    },
    {
      "cell_type": "code",
      "source": [
        "predict_image = \"/content/car.jpg\""
      ],
      "metadata": {
        "id": "N1PvwYqYtGzZ"
      },
      "execution_count": 43,
      "outputs": []
    },
    {
      "cell_type": "code",
      "source": [
        "predict_image = \"/content/cat.jpg\""
      ],
      "metadata": {
        "id": "OOMTmsKvtIxB"
      },
      "execution_count": 41,
      "outputs": []
    },
    {
      "cell_type": "code",
      "metadata": {
        "id": "rS1eC0jViBi-",
        "colab": {
          "base_uri": "https://localhost:8080/",
          "height": 266
        },
        "outputId": "913d24be-ffeb-470e-a13b-bfaddbe6908b"
      },
      "source": [
        "import cv2\n",
        "image = cv2.imread(predict_image)\n",
        "cv2_imshow(image)\n",
        "\n",
        "image = cv2.cvtColor(image,cv2.COLOR_BGR2RGB)\n",
        "image = cv2.resize(image, (32,32))\n",
        "print(image.shape)\n",
        "\n",
        "image = image/255\n",
        "image = image.reshape(1,width,height,channel)\n",
        "print(image.shape)\n",
        "\n",
        "output = model.predict(image)\n",
        "print(output)\n",
        "print(np.argmax(output))\n",
        "\n",
        "predictlabel = labels[np.argmax(output)]\n",
        "print(f\" predict: {predictlabel}\")"
      ],
      "execution_count": 44,
      "outputs": [
        {
          "output_type": "display_data",
          "data": {
            "text/plain": [
              "<PIL.Image.Image image mode=RGB size=128x128>"
            ],
            "image/png": "[encoded data removed]"
          },
          "metadata": {}
        },
        {
          "output_type": "stream",
          "name": "stdout",
          "text": [
            "(32, 32, 3)\n",
            "(1, 32, 32, 3)\n",
            "1/1 [==============================] - 0s 16ms/step\n",
            "[[3.5153867e-21 1.0000000e+00 2.2409361e-35 2.0053515e-31 0.0000000e+00\n",
            "  1.6733330e-35 2.9794719e-25 0.0000000e+00 3.9809070e-19 6.9935301e-13]]\n",
            "1\n",
            " predict: Car\n"
          ]
        }
      ]
    },
    {
      "cell_type": "code",
      "metadata": {
        "id": "dg9aNpe6CXaG"
      },
      "source": [],
      "execution_count": null,
      "outputs": []
    }
  ]
}